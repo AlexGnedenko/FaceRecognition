{
 "cells": [
  {
   "cell_type": "markdown",
   "metadata": {},
   "source": [
    "# Face recognition with ORL"
   ]
  },
  {
   "cell_type": "markdown",
   "metadata": {},
   "source": [
    "### План работ:\n",
    "\n",
    "    + Продумать и описать необходимые библиотеки\n",
    "    + Обработать входные данные, перевести их в матрицу m*n\n",
    "    + Разделить входные данные на учебные и тествые 80/20\n",
    "    + Написать простейший алгоритм распознавания (всегда отвечать \"это человек №1\")\n",
    "    + Протестировать разработанный алгоритм, оформить результат в виде отчета"
   ]
  },
  {
   "cell_type": "markdown",
   "metadata": {},
   "source": [
    "### Список необходимых библиотек:"
   ]
  },
  {
   "cell_type": "code",
   "execution_count": 1,
   "metadata": {},
   "outputs": [],
   "source": [
    "import numpy as np\n",
    "import os\n",
    "import math\n",
    "from PIL import Image\n",
    "from PIL import ImageDraw"
   ]
  },
  {
   "cell_type": "markdown",
   "metadata": {},
   "source": [
    "### Глобальные переменные:"
   ]
  },
  {
   "cell_type": "code",
   "execution_count": 2,
   "metadata": {},
   "outputs": [],
   "source": [
    "widthOfImages = 0\n",
    "heightOfImages = 0\n",
    "numberOfRows = 0\n",
    "numberOfColumns = 0\n",
    "folder = \"att_faces\""
   ]
  },
  {
   "cell_type": "markdown",
   "metadata": {},
   "source": [
    "### Обработать данные, перевести их в матрицу m*n:\n",
    "\n",
    "    Метод возвращающий список всех путей фотографий из этой папки"
   ]
  },
  {
   "cell_type": "code",
   "execution_count": 3,
   "metadata": {},
   "outputs": [],
   "source": [
    "def readPathesOfImagesFromFolder ():\n",
    "    listOfSubfolders = os.listdir(folder)\n",
    "    listOfImagesPathes = list()\n",
    "    listOfLabels = list()\n",
    "    label = 0\n",
    "    for i in listOfSubfolders:\n",
    "        listOfImagesInCurrentSubfolder = os.listdir(folder+\"/\"+i)\n",
    "        label += 1\n",
    "        for j in listOfImagesInCurrentSubfolder:            \n",
    "            listOfImagesPathes.append(folder+\"/\"+i+\"/\"+j)\n",
    "            listOfLabels.append(label)\n",
    "    return listOfImagesPathes, listOfLabels"
   ]
  },
  {
   "cell_type": "markdown",
   "metadata": {},
   "source": [
    "    Метод заполняющий глобальные переменные widthOfImages, heightOfImages, numberOfRows, numberOfColumns:"
   ]
  },
  {
   "cell_type": "code",
   "execution_count": 4,
   "metadata": {},
   "outputs": [],
   "source": [
    "def countGlobalVariable():\n",
    "    pathesOfImages, listOfLabels = readPathesOfImagesFromFolder()\n",
    "    firstImage = Image.open(pathesOfImages[0])\n",
    "    global  widthOfImages\n",
    "    global  heightOfImages\n",
    "    global  numberOfRows\n",
    "    global  numberOfColumns\n",
    "    widthOfImages = firstImage.size[0]    \n",
    "    heightOfImages = firstImage.size[1]\n",
    "    numberOfRows = len(pathesOfImages)\n",
    "    numberOfColumns = widthOfImages*heightOfImages"
   ]
  },
  {
   "cell_type": "markdown",
   "metadata": {},
   "source": [
    "    Перевод списка путей в попиксельную матрицу m*n:"
   ]
  },
  {
   "cell_type": "code",
   "execution_count": 5,
   "metadata": {},
   "outputs": [],
   "source": [
    "def convertPathesToImagesMatrix (listOfImagesPathes):\n",
    "    countGlobalVariable()\n",
    "    global numberOfRows\n",
    "    global numberOfColumns\n",
    "    matrixOfImagesPixels = np.zeros((numberOfRows,numberOfColumns))\n",
    "    currentRow = 0\n",
    "    for f in listOfImagesPathes:\n",
    "        im=np.array(Image.open(f))\n",
    "        im=im.reshape(1,im.shape[0]*im.shape[1])\n",
    "   \n",
    "        #create dataset: \"data\"\n",
    "        matrixOfImagesPixels[currentRow,:]=im/255\n",
    "        currentRow+=1\n",
    "    return matrixOfImagesPixels"
   ]
  },
  {
   "cell_type": "markdown",
   "metadata": {},
   "source": [
    "### Генерируем матрицу PCA при заданном PCA:"
   ]
  },
  {
   "cell_type": "code",
   "execution_count": 6,
   "metadata": {},
   "outputs": [],
   "source": [
    "def generatrePCAMatrix(m,PCA):\n",
    "    matrix=m\n",
    "    #считаем ковариационную матрицу\n",
    "    covMatrix = np.dot(matrix.transpose(),matrix)\n",
    "    \n",
    "    #считаем собственные вектора\n",
    "    eigenvalues, eigenvectors  = np.linalg.eig(covMatrix)\n",
    "    #сортируем собственные числа и вектора\n",
    "    for i in range(0,len(eigenvalues)):\n",
    "        for j in range(1,len(eigenvalues)):\n",
    "            if (eigenvalues[j]>eigenvalues[j-1]):\n",
    "                temp = eigenvalues[j]\n",
    "                eigenvalues[j] = eigenvalues[j-1]\n",
    "                eigenvalues[j-1] = temp\n",
    "            \n",
    "                temp = eigenvectors[j]\n",
    "                eigenvectors[j] = eigenvectors[j-1]\n",
    "                eigenvectors[j-1] = temp\n",
    "    #считаем К\n",
    "    K = 1    \n",
    "    #подсчет суммы\n",
    "    summ = 0\n",
    "    for i in eigenvalues:\n",
    "        summ = summ + i\n",
    "    #подсчет нужного К\n",
    "    currentSum = 0\n",
    "    i = 0\n",
    "    while (currentSum/summ<PCA):\n",
    "        currentSum = currentSum + eigenvalues[i]\n",
    "        i = i + 1\n",
    "        K = K + 1\n",
    "    #получаем матрицу перехода\n",
    "    E = np.zeros((K, len(matrix[0])))\n",
    "    for i in range(0,K):\n",
    "        E[i] = eigenvectors[i]\n",
    "        \n",
    "    f = open('text.txt', 'w')\n",
    "    np.set_printoptions(threshold=np.nan)\n",
    "    f.write(str(E))\n",
    "    f.close()\n",
    "    \n",
    "    return E"
   ]
  },
  {
   "cell_type": "markdown",
   "metadata": {},
   "source": [
    "### Нормализации:"
   ]
  },
  {
   "cell_type": "code",
   "execution_count": 7,
   "metadata": {},
   "outputs": [],
   "source": [
    "def normalize255(matrixOfImagesPixels):\n",
    "    matrixOfImagesPixels = matrixOfImagesPixels/255\n",
    "    return matrixOfImagesPixels\n",
    "\n",
    "def normalizeStandardDeviation(matrixOfImagesPixels):\n",
    "    matrixOfImagesPixels = (matrixOfImagesPixels - np.mean(matrixOfImagesPixels))/np.std(matrixOfImagesPixels)    \n",
    "    return matrixOfImagesPixels"
   ]
  },
  {
   "cell_type": "markdown",
   "metadata": {},
   "source": [
    "### Разделить входные данные на учебные и тествые в отношении 80/20:"
   ]
  },
  {
   "cell_type": "code",
   "execution_count": 8,
   "metadata": {},
   "outputs": [],
   "source": [
    "def separateMatrixToTrainAndTestMatrix (matrixOfImagesPixels, listOfLabels):\n",
    "    testMatrix = np.zeros((numberOfRows//5,numberOfColumns))\n",
    "    i_testMatrix = 0\n",
    "    testLabels = list()\n",
    "    trainMatrix = np.zeros((numberOfRows - testMatrix.shape[0],numberOfColumns))\n",
    "    i_trainMatrix = 0\n",
    "    trainLabels = list()\n",
    "    \n",
    "    for i in range(0, numberOfRows):\n",
    "        if (i%5==0):\n",
    "            testMatrix[i_testMatrix,:]=matrixOfImagesPixels[i,:]\n",
    "            i_testMatrix+=1\n",
    "            testLabels.append(listOfLabels[i])\n",
    "        else:\n",
    "            trainMatrix[i_trainMatrix,:]=matrixOfImagesPixels[i,:]\n",
    "            i_trainMatrix+=1\n",
    "            trainLabels.append(listOfLabels[i])\n",
    "    return trainMatrix, trainLabels, testMatrix, testLabels"
   ]
  },
  {
   "cell_type": "markdown",
   "metadata": {},
   "source": [
    "### Функция подсчета евклидового расстояния между фотографиями:\n",
    "На вход принимает две фотографии, возвращает одно число - евклидово расстояние"
   ]
  },
  {
   "cell_type": "code",
   "execution_count": 9,
   "metadata": {},
   "outputs": [],
   "source": [
    "def evklidDistanse(vector01, vector02):\n",
    "    d = np.linalg.norm(vector01-vector02)\n",
    "    return d"
   ]
  },
  {
   "cell_type": "markdown",
   "metadata": {},
   "source": [
    "### Aлгоритм распознавания:"
   ]
  },
  {
   "cell_type": "code",
   "execution_count": 10,
   "metadata": {},
   "outputs": [],
   "source": [
    "def discoverPerson(person, label, matrixOfImagesPixels, listOfLabels):\n",
    "    minDis = evklidDistanse(person, matrixOfImagesPixels[0])\n",
    "    currentPersonLabel = 1\n",
    "    for i in range(1,len(matrixOfImagesPixels)):\n",
    "        d = evklidDistanse(person, matrixOfImagesPixels[i])\n",
    "        if (d < minDis):\n",
    "            minDis = d\n",
    "            currentPersonLabel = listOfLabels[i]\n",
    "    return currentPersonLabel, currentPersonLabel ==label"
   ]
  },
  {
   "cell_type": "markdown",
   "metadata": {},
   "source": [
    "### Алгоритм тестирования нейронной сети:"
   ]
  },
  {
   "cell_type": "code",
   "execution_count": 11,
   "metadata": {},
   "outputs": [],
   "source": [
    "def testProgram(mode):\n",
    "    listOfImagesPathes, listOfLabels = readPathesOfImagesFromFolder()\n",
    "    if (mode == 0):\n",
    "        matrixOfImagesPixels = convertPathesToImagesMatrix (listOfImagesPathes)\n",
    "        trainMatrix, trainLabels, testMatrix, testLabels = separateMatrixToTrainAndTestMatrix(matrixOfImagesPixels, listOfLabels)\n",
    "        corrects = 0\n",
    "        for i in range(0, len(testMatrix)):\n",
    "            n, b = discoverPerson(testMatrix[i], testLabels[i], trainMatrix, trainLabels)\n",
    "            if b:\n",
    "                corrects+=1\n",
    "    if (mode == 1):        \n",
    "        matrixOfImagesPixels = normalizeStandardDeviation(convertPathesToImagesMatrix (listOfImagesPathes))\n",
    "        trainMatrix, trainLabels, testMatrix, testLabels = separateMatrixToTrainAndTestMatrix(matrixOfImagesPixels, listOfLabels)\n",
    "        corrects = 0\n",
    "        for i in range(0, len(testMatrix)):\n",
    "            n, b = discoverPerson(normalizeStandardDeviation(testMatrix[i]), testLabels[i], trainMatrix, trainLabels)\n",
    "            if b:\n",
    "                corrects+=1\n",
    "    if (mode == 2):        \n",
    "        matrixOfImagesPixels = convertPathesToImagesMatrix (listOfImagesPathes)\n",
    "        trainMatrix, trainLabels, testMatrix, testLabels = separateMatrixToTrainAndTestMatrix(matrixOfImagesPixels, listOfLabels)\n",
    "        E = generatrePCAMatrix(trainMatrix,0.95)\n",
    "        trainMatrix = np.dot(trainMatrix,E.transpose())\n",
    "        corrects = 0\n",
    "        for i in range(0, len(testMatrix)):\n",
    "            test = testMatrix[i]\n",
    "            n, b = discoverPerson(np.dot(test,E), testLabels[i], trainMatrix, trainLabels)\n",
    "            if b:\n",
    "                corrects+=1\n",
    "    corrects = (corrects/len(testMatrix))*100\n",
    "    return corrects"
   ]
  },
  {
   "cell_type": "markdown",
   "metadata": {},
   "source": [
    "### Вывод:"
   ]
  },
  {
   "cell_type": "code",
   "execution_count": 15,
   "metadata": {},
   "outputs": [],
   "source": [
    "#rezult = \"В режиме без нормализаций эффективность \" + str(testProgram(0)) + \"%\"\n",
    "#print(rezult)\n",
    "#rezult = \"В режиме с нормализацией \\\"/(standardDeviation) эффективность \" + str(testProgram(1)) + \"%\"\n",
    "#print(rezult)\n",
    "#rezult = \"В режиме без нормализаций с РСА эффективность \" + str(testProgram(2)) + \"%\"\n",
    "#print(rezult)\n",
    "listOfImagesPathes, listOfLabels = readPathesOfImagesFromFolder()\n",
    "matrixOfImagesPixels = convertPathesToImagesMatrix (listOfImagesPathes)"
   ]
  }
 ],
 "metadata": {
  "kernelspec": {
   "display_name": "Python 3",
   "language": "python",
   "name": "python3"
  },
  "language_info": {
   "codemirror_mode": {
    "name": "ipython",
    "version": 3
   },
   "file_extension": ".py",
   "mimetype": "text/x-python",
   "name": "python",
   "nbconvert_exporter": "python",
   "pygments_lexer": "ipython3",
   "version": "3.7.1"
  }
 },
 "nbformat": 4,
 "nbformat_minor": 2
}
