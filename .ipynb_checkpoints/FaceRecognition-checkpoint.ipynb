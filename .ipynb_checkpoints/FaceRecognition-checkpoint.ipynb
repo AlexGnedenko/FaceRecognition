{
 "cells": [
  {
   "cell_type": "markdown",
   "metadata": {},
   "source": [
    "# Face recognition"
   ]
  },
  {
   "cell_type": "markdown",
   "metadata": {},
   "source": [
    "### Список необходимых библиотек:"
   ]
  },
  {
   "cell_type": "code",
   "execution_count": 56,
   "metadata": {},
   "outputs": [],
   "source": [
    "import numpy as np\n",
    "import os\n",
    "import math\n",
    "from PIL import Image\n",
    "from PIL import ImageDraw"
   ]
  },
  {
   "cell_type": "markdown",
   "metadata": {},
   "source": [
    "### Глобальные переменные:"
   ]
  },
  {
   "cell_type": "code",
   "execution_count": 57,
   "metadata": {},
   "outputs": [],
   "source": [
    "widthOfImages = 0\n",
    "heightOfImages = 0\n",
    "numberOfRows = 0\n",
    "numberOfColumns = 0\n",
    "folder = \"att_faces\""
   ]
  },
  {
   "cell_type": "markdown",
   "metadata": {},
   "source": [
    "### Обработать данные, перевести их в матрицу m*n:\n",
    "\n",
    "    Метод возвращающий список всех путей фотографий из заданной папки"
   ]
  },
  {
   "cell_type": "code",
   "execution_count": 58,
   "metadata": {},
   "outputs": [],
   "source": [
    "def readPathesOfImagesFromFolder ():\n",
    "    listOfSubfolders = os.listdir(folder)\n",
    "    listOfImagesPathes = list()\n",
    "    listOfLabels = list()\n",
    "    label = 0\n",
    "    for i in listOfSubfolders:\n",
    "        listOfImagesInCurrentSubfolder = os.listdir(folder+\"/\"+i)\n",
    "        label += 1\n",
    "        for j in listOfImagesInCurrentSubfolder:            \n",
    "            listOfImagesPathes.append(folder+\"/\"+i+\"/\"+j)\n",
    "            listOfLabels.append(label)\n",
    "    np.savetxt('listOfLabels.txt', listOfLabels)\n",
    "    return listOfImagesPathes, listOfLabels"
   ]
  },
  {
   "cell_type": "markdown",
   "metadata": {},
   "source": [
    "    Метод заполняющий глобальные переменные widthOfImages, heightOfImages, numberOfRows, numberOfColumns:"
   ]
  },
  {
   "cell_type": "code",
   "execution_count": 59,
   "metadata": {},
   "outputs": [],
   "source": [
    "def countGlobalVariable():\n",
    "    pathesOfImages, listOfLabels = readPathesOfImagesFromFolder()\n",
    "    firstImage = Image.open(pathesOfImages[0])\n",
    "    global  widthOfImages\n",
    "    global  heightOfImages\n",
    "    global  numberOfRows\n",
    "    global  numberOfColumns\n",
    "    widthOfImages = firstImage.size[0]    \n",
    "    heightOfImages = firstImage.size[1]\n",
    "    numberOfRows = len(pathesOfImages)\n",
    "    numberOfColumns = widthOfImages*heightOfImages"
   ]
  },
  {
   "cell_type": "markdown",
   "metadata": {},
   "source": [
    "Перевод списка путей в попиксельную матрицу m*n:"
   ]
  },
  {
   "cell_type": "code",
   "execution_count": 60,
   "metadata": {},
   "outputs": [],
   "source": [
    "def convertPathesToImagesMatrix (listOfImagesPathes):\n",
    "    countGlobalVariable()\n",
    "    global numberOfRows\n",
    "    global numberOfColumns\n",
    "    matrixOfImagesPixels = np.zeros((numberOfRows,numberOfColumns))\n",
    "    currentRow = 0\n",
    "    for f in listOfImagesPathes:\n",
    "        im=np.array(Image.open(f))\n",
    "        im=im.reshape(1,im.shape[0]*im.shape[1])\n",
    "   \n",
    "        matrixOfImagesPixels[currentRow,:]=im/255\n",
    "        currentRow+=1\n",
    "    np.savetxt('matrixOfImagesPixels.txt', matrixOfImagesPixels)\n",
    "    return matrixOfImagesPixels\n"
   ]
  },
  {
   "cell_type": "markdown",
   "metadata": {},
   "source": [
    "### Разделяет матрицу изоражений на эталонную и тестовую с заданным процентом тестовых изобрашений:"
   ]
  },
  {
   "cell_type": "code",
   "execution_count": 61,
   "metadata": {},
   "outputs": [],
   "source": [
    "def separateMatrixToTrainAndTestMatrix (matrixOfImagesPixels, listOfLabels, countTestPersent):\n",
    "    testMatrix = np.zeros(((numberOfRows*countTestPersent)//100,numberOfColumns))\n",
    "    i_testMatrix = 0\n",
    "    testLabels = list()\n",
    "    trainMatrix = np.zeros((numberOfRows - testMatrix.shape[0],numberOfColumns))\n",
    "    i_trainMatrix = 0\n",
    "    trainLabels = list()\n",
    "    \n",
    "    for i in range(0, numberOfRows):\n",
    "        if (i%10<countTestPersent//10):\n",
    "            testMatrix[i_testMatrix,:]=matrixOfImagesPixels[i,:]\n",
    "            i_testMatrix+=1\n",
    "            testLabels.append(listOfLabels[i])            \n",
    "        else:\n",
    "            trainMatrix[i_trainMatrix,:]=matrixOfImagesPixels[i,:]\n",
    "            i_trainMatrix+=1\n",
    "            trainLabels.append(listOfLabels[i])\n",
    "    return trainMatrix, trainLabels, testMatrix, testLabels"
   ]
  },
  {
   "cell_type": "markdown",
   "metadata": {},
   "source": [
    "### Функция подсчета евклидового расстояния между фотографиями:\n",
    "На вход принимает две фотографии, возвращает одно число - евклидово расстояние"
   ]
  },
  {
   "cell_type": "code",
   "execution_count": 62,
   "metadata": {},
   "outputs": [],
   "source": [
    "def evklidDistanse(vector01, vector02):\n",
    "    d = np.linalg.norm(vector01-vector02)\n",
    "    return d"
   ]
  },
  {
   "cell_type": "markdown",
   "metadata": {},
   "source": [
    "### Aлгоритм распознавания:"
   ]
  },
  {
   "cell_type": "code",
   "execution_count": 63,
   "metadata": {},
   "outputs": [],
   "source": [
    "def discoverPerson(person, label, matrixOfImagesPixels, listOfLabels):\n",
    "    minDis = evklidDistanse(person, matrixOfImagesPixels[0])\n",
    "    currentPersonLabel = 1\n",
    "    for i in range(1,len(matrixOfImagesPixels)):\n",
    "        d = evklidDistanse(person, matrixOfImagesPixels[i])\n",
    "        if (d < minDis):\n",
    "            minDis = d\n",
    "            currentPersonLabel = listOfLabels[i]\n",
    "    return currentPersonLabel, currentPersonLabel ==label"
   ]
  },
  {
   "cell_type": "markdown",
   "metadata": {},
   "source": [
    "### Нормализация:\n",
    "\n",
    "Входной параметр:\n",
    "+ 0 - без нормализации\n",
    "+ 1 - стандартное отклонение по семплам\n",
    "+ 2 - стандартное отклонение по фичам"
   ]
  },
  {
   "cell_type": "code",
   "execution_count": 64,
   "metadata": {},
   "outputs": [],
   "source": [
    "def normalizeStandardDeviation(matrixOfImagesPixels, mode):\n",
    "    if (mode==0):\n",
    "        matrixOfImagesPixels = matrixOfImagesPixels\n",
    "    elif(mode==1):\n",
    "        for i in range(0, len(matrixOfImagesPixels)):\n",
    "            matrixOfImagesPixels[i] = (matrixOfImagesPixels[i] - np.mean(matrixOfImagesPixels[i]))/np.std(matrixOfImagesPixels[i])\n",
    "    else:   \n",
    "        for i in range(0, len(matrixOfImagesPixels[0])):\n",
    "            matrixOfImagesPixels[:,i] = (matrixOfImagesPixels[:,i] - np.mean(matrixOfImagesPixels[:,i]))/np.std(matrixOfImagesPixels[:,i])\n",
    "    return matrixOfImagesPixels"
   ]
  },
  {
   "cell_type": "markdown",
   "metadata": {},
   "source": [
    "### Алгоритм генерации и записи в файл конвертациинной матрицы Е по заданной тестовой выборке, РСА"
   ]
  },
  {
   "cell_type": "code",
   "execution_count": 65,
   "metadata": {},
   "outputs": [],
   "source": [
    "def generatePCA(countTestPercents, PCA, matrix):\n",
    "    nameOfMatrixFile = \"E_\"+str(countTestPercents)+\"_\"+\"0,\"+str(PCA)+\".txt\"\n",
    "    \n",
    "    #считаем ковариационную матрицу\n",
    "    covMatrix = np.dot(matrix.transpose(),matrix)\n",
    "    \n",
    "    #считаем собственные вектора\n",
    "    eigenvalues, eigenvectors  = np.linalg.eig(covMatrix)\n",
    "    \n",
    "    #сортируем собственные числа и вектора\n",
    "    for i in range(0,len(eigenvalues)):\n",
    "        for j in range(1,len(eigenvalues)):\n",
    "            if (eigenvalues[j]>eigenvalues[j-1]):\n",
    "                temp = eigenvalues[j]\n",
    "                eigenvalues[j] = eigenvalues[j-1]\n",
    "                eigenvalues[j-1] = temp\n",
    "            \n",
    "                temp = eigenvectors[j]\n",
    "                eigenvectors[j] = eigenvectors[j-1]\n",
    "                eigenvectors[j-1] = temp\n",
    "    #считаем К\n",
    "    K = 1\n",
    "    \n",
    "    #подсчет суммы\n",
    "    summ = 0\n",
    "    for i in eigenvalues:\n",
    "        summ = summ + i\n",
    "    \n",
    "    #подсчет нужного К\n",
    "    currentSum = 0\n",
    "    i = 0\n",
    "    while (currentSum/summ<PCA/100):\n",
    "        currentSum = currentSum + eigenvalues[i]\n",
    "        i = i + 1\n",
    "        K = K + 1\n",
    "    \n",
    "    #получаем матрицу перехода\n",
    "    E = np.zeros((K, len(matrix[0])))\n",
    "    for i in range(0,K):\n",
    "        E[i] = eigenvectors[i]\n",
    "    \n",
    "    #cохраняем текущую матрицу РСА\n",
    "    np.savetxt(nameOfMatrixFile, E)\n",
    "    print(nameOfMatrixFile)"
   ]
  },
  {
   "cell_type": "markdown",
   "metadata": {},
   "source": [
    "### PCA (по готовой матрице Е из текстового файла перехода для выборки заданного размера):"
   ]
  },
  {
   "cell_type": "code",
   "execution_count": 66,
   "metadata": {},
   "outputs": [],
   "source": [
    "def convertPCA(countTestPercents, PCA, matrix):\n",
    "    if (PCA != 0):\n",
    "        nameOfMatrixFile = \"E_\"+str(countTestPercents)+\"_\"+\"0,\"+str(PCA)+\".txt\"\n",
    "        E = np.loadtxt(nameOfMatrixFile)\n",
    "        E = E.transpose()\n",
    "        matrix = np.dot(matrix, E)\n",
    "    return matrix"
   ]
  },
  {
   "cell_type": "markdown",
   "metadata": {},
   "source": [
    "### Тестирование с заданными параметрами(процент тестовой выборки, нормализация, PCA):"
   ]
  },
  {
   "cell_type": "code",
   "execution_count": 67,
   "metadata": {},
   "outputs": [],
   "source": [
    "def testProgram(countTestPercents, normalize, PCA):\n",
    "    listOfImagesPathes, listOfLabels = readPathesOfImagesFromFolder()\n",
    "    matrixOfImagesPixels = convertPathesToImagesMatrix (listOfImagesPathes)\n",
    "    \n",
    "    #нормализация\n",
    "    matrixOfImagesPixels = normalizeStandardDeviation(matrixOfImagesPixels, normalize)\n",
    "    \n",
    "    #разделение на эталонную и тестовую выборки\n",
    "    trainMatrix, trainLabels, testMatrix, testLabels = separateMatrixToTrainAndTestMatrix(matrixOfImagesPixels, listOfLabels, countTestPercents)\n",
    "    \n",
    "    #РСА\n",
    "    trainMatrix = convertPCA(countTestPercents, PCA, trainMatrix)\n",
    "    testMatrix = convertPCA(countTestPercents, PCA, testMatrix)\n",
    "    print(\"K = \"+str(len(testMatrix[0])))\n",
    "    \n",
    "    corrects = 0\n",
    "    for i in range(0, len(testMatrix)):\n",
    "        n, b = discoverPerson(testMatrix[i], testLabels[i], trainMatrix, trainLabels)\n",
    "        if b:\n",
    "            corrects+=1\n",
    "    corrects = (corrects/len(testMatrix))*100\n",
    "    return corrects"
   ]
  },
  {
   "cell_type": "markdown",
   "metadata": {},
   "source": [
    "\n",
    "### Вывод:"
   ]
  },
  {
   "cell_type": "code",
   "execution_count": 68,
   "metadata": {},
   "outputs": [
    {
     "name": "stdout",
     "output_type": "stream",
     "text": [
      "K = 10304\n",
      "При разделении 90/10 без нормализации без PCA эффективность:97.5%\n",
      "K = 10304\n",
      "При разделении 80/20 без нормализации без PCA эффективность:96.25%\n",
      "K = 10304\n",
      "При разделении 70/30 без нормализации без PCA эффективность:97.5%\n",
      "K = 10304\n",
      "При разделении 60/40 без нормализации без PCA эффективность:94.375%\n",
      "K = 10304\n",
      "При разделении 50/50 без нормализации без PCA эффективность:93.5%\n",
      "\n",
      "K = 10304\n",
      "При разделении 90/10 нормализация по семплам без PCA эффективность:95.0%\n",
      "K = 10304\n",
      "При разделении 80/20 нормализация по семплам без PCA эффективность:92.5%\n",
      "K = 10304\n",
      "При разделении 70/30 нормализация по семплам без PCA эффективность:95.0%\n",
      "K = 10304\n",
      "При разделении 60/40 нормализация по семплам без PCA эффективность:92.5%\n",
      "K = 10304\n",
      "При разделении 50/50 нормализация по семплам без PCA эффективность:91.0%\n",
      "\n",
      "K = 10304\n",
      "При разделении 90/10 нормализация по фичам без PCA эффективность:97.5%\n",
      "K = 10304\n",
      "При разделении 80/20 нормализация по фичам без PCA эффективность:96.25%\n",
      "K = 10304\n",
      "При разделении 70/30 нормализация по фичам без PCA эффективность:97.5%\n",
      "K = 10304\n",
      "При разделении 60/40 нормализация по фичам без PCA эффективность:94.375%\n",
      "K = 10304\n",
      "При разделении 50/50 нормализация по фичам без PCA эффективность:92.5%\n",
      "\n",
      "K = 8\n",
      "При разделении 80/20 без нормализации c PCA=95 эффективность:46.25%\n",
      "K = 45\n",
      "При разделении 80/20 без нормализации c PCA=98 эффективность:71.25%\n",
      "K = 102\n",
      "При разделении 80/20 без нормализации c PCA=99 эффективность:92.5%\n"
     ]
    }
   ],
   "source": [
    "print(\"При разделении 90/10 без нормализации без PCA эффективность:\" + str(testProgram(10, 0, 0)) + \"%\")\n",
    "print(\"При разделении 80/20 без нормализации без PCA эффективность:\" + str(testProgram(20, 0, 0)) + \"%\")\n",
    "print(\"При разделении 70/30 без нормализации без PCA эффективность:\" + str(testProgram(30, 0, 0)) + \"%\")\n",
    "print(\"При разделении 60/40 без нормализации без PCA эффективность:\" + str(testProgram(40, 0, 0)) + \"%\")\n",
    "print(\"При разделении 50/50 без нормализации без PCA эффективность:\" + str(testProgram(50, 0, 0)) + \"%\")\n",
    "print()\n",
    "\n",
    "print(\"При разделении 90/10 нормализация по семплам без PCA эффективность:\" + str(testProgram(10, 1, 0)) + \"%\")\n",
    "print(\"При разделении 80/20 нормализация по семплам без PCA эффективность:\" + str(testProgram(20, 1, 0)) + \"%\")\n",
    "print(\"При разделении 70/30 нормализация по семплам без PCA эффективность:\" + str(testProgram(30, 1, 0)) + \"%\")\n",
    "print(\"При разделении 60/40 нормализация по семплам без PCA эффективность:\" + str(testProgram(40, 1, 0)) + \"%\")\n",
    "print(\"При разделении 50/50 нормализация по семплам без PCA эффективность:\" + str(testProgram(50, 1, 0)) + \"%\")\n",
    "print()\n",
    "\n",
    "print(\"При разделении 90/10 нормализация по фичам без PCA эффективность:\" + str(testProgram(10, 2, 0)) + \"%\")\n",
    "print(\"При разделении 80/20 нормализация по фичам без PCA эффективность:\" + str(testProgram(20, 2, 0)) + \"%\")\n",
    "print(\"При разделении 70/30 нормализация по фичам без PCA эффективность:\" + str(testProgram(30, 2, 0)) + \"%\")\n",
    "print(\"При разделении 60/40 нормализация по фичам без PCA эффективность:\" + str(testProgram(40, 2, 0)) + \"%\")\n",
    "print(\"При разделении 50/50 нормализация по фичам без PCA эффективность:\" + str(testProgram(50, 2, 0)) + \"%\")\n",
    "print()\n",
    "\n",
    "print(\"При разделении 80/20 без нормализации c PCA=95 эффективность:\" + str(testProgram(20, 0, 95)) + \"%\")\n",
    "print(\"При разделении 80/20 без нормализации c PCA=98 эффективность:\" + str(testProgram(20, 0, 98)) + \"%\")\n",
    "print(\"При разделении 80/20 без нормализации c PCA=99 эффективность:\" + str(testProgram(20, 0, 99)) + \"%\")"
   ]
  }
 ],
 "metadata": {
  "kernelspec": {
   "display_name": "Python 3",
   "language": "python",
   "name": "python3"
  },
  "language_info": {
   "codemirror_mode": {
    "name": "ipython",
    "version": 3
   },
   "file_extension": ".py",
   "mimetype": "text/x-python",
   "name": "python",
   "nbconvert_exporter": "python",
   "pygments_lexer": "ipython3",
   "version": "3.7.1"
  }
 },
 "nbformat": 4,
 "nbformat_minor": 2
}
